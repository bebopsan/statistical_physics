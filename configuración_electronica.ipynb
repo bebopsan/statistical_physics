{
 "metadata": {
  "name": "configuraci\u00f3n_electronica"
 },
 "nbformat": 3,
 "nbformat_minor": 0,
 "worksheets": [
  {
   "cells": [
    {
     "cell_type": "heading",
     "level": 1,
     "metadata": {},
     "source": [
      "Codigo para c\u00e1lculo de t\u00e9rminos espectrosc\u00f3picos"
     ]
    },
    {
     "cell_type": "markdown",
     "metadata": {},
     "source": [
      "Esta rutina genera todas las posibles combinaciones excluyendo t\u00e9rminos que no cumplen con el principio de exclusi\u00f3n y combinaciones equivalentes.\n",
      "Una combinaci\u00f3n equivalente ser\u00edan por ejemplo los siguientes dos estados:\n",
      "\n",
      "[(2,-0.5), (1,0.5)] y [(1,0.5), (2,-0.5)]\n",
      "\n",
      "En este caso cada tupla () es un electr\u00f3n con sus n\u00fameros l y s, y el estado es la combinaci\u00f3n de ambos."
     ]
    },
    {
     "cell_type": "code",
     "collapsed": false,
     "input": [
      "Slater_sets = []\n",
      "Slater = []\n",
      "for ml1 in (-2,-1,0,1,2):\n",
      "    for ml2 in (-2,-1,0,1,2):\n",
      "        for ms1 in (1/2,-1/2):\n",
      "            for ms2 in (1/2,-1/2):\n",
      "                if len({(ml1,ms1),(ml2,ms2)})>1:\n",
      "                    if {(ml1,ms1),(ml2,ms2)} not in Slater_sets:\n",
      "                        Slater_sets.append({(ml1,ms1),(ml2,ms2)})\n",
      "                        Slater.append(list({(ml1,ms1),(ml2,ms2)}))"
     ],
     "language": "python",
     "metadata": {},
     "outputs": [],
     "prompt_number": 12
    },
    {
     "cell_type": "code",
     "collapsed": false,
     "input": [
      "print(\"Hay %d posibles combinaciones:\\n\" %len(Slater)); Slater"
     ],
     "language": "python",
     "metadata": {},
     "outputs": [
      {
       "output_type": "stream",
       "stream": "stdout",
       "text": [
        "Hay 45 posibles combinaciones:\n",
        "\n"
       ]
      },
      {
       "output_type": "pyout",
       "prompt_number": 31,
       "text": [
        "[[(-2, -0.5), (-2, 0.5)],\n",
        " [(-1, 0.5), (-2, 0.5)],\n",
        " [(-1, -0.5), (-2, 0.5)],\n",
        " [(-1, 0.5), (-2, -0.5)],\n",
        " [(-1, -0.5), (-2, -0.5)],\n",
        " [(0, 0.5), (-2, 0.5)],\n",
        " [(0, -0.5), (-2, 0.5)],\n",
        " [(0, 0.5), (-2, -0.5)],\n",
        " [(0, -0.5), (-2, -0.5)],\n",
        " [(1, 0.5), (-2, 0.5)],\n",
        " [(1, -0.5), (-2, 0.5)],\n",
        " [(1, 0.5), (-2, -0.5)],\n",
        " [(1, -0.5), (-2, -0.5)],\n",
        " [(2, 0.5), (-2, 0.5)],\n",
        " [(2, -0.5), (-2, 0.5)],\n",
        " [(2, 0.5), (-2, -0.5)],\n",
        " [(2, -0.5), (-2, -0.5)],\n",
        " [(-1, -0.5), (-1, 0.5)],\n",
        " [(0, 0.5), (-1, 0.5)],\n",
        " [(0, -0.5), (-1, 0.5)],\n",
        " [(0, 0.5), (-1, -0.5)],\n",
        " [(0, -0.5), (-1, -0.5)],\n",
        " [(1, 0.5), (-1, 0.5)],\n",
        " [(1, -0.5), (-1, 0.5)],\n",
        " [(1, 0.5), (-1, -0.5)],\n",
        " [(1, -0.5), (-1, -0.5)],\n",
        " [(2, 0.5), (-1, 0.5)],\n",
        " [(2, -0.5), (-1, 0.5)],\n",
        " [(2, 0.5), (-1, -0.5)],\n",
        " [(2, -0.5), (-1, -0.5)],\n",
        " [(0, -0.5), (0, 0.5)],\n",
        " [(1, 0.5), (0, 0.5)],\n",
        " [(1, -0.5), (0, 0.5)],\n",
        " [(1, 0.5), (0, -0.5)],\n",
        " [(1, -0.5), (0, -0.5)],\n",
        " [(2, 0.5), (0, 0.5)],\n",
        " [(2, -0.5), (0, 0.5)],\n",
        " [(2, 0.5), (0, -0.5)],\n",
        " [(2, -0.5), (0, -0.5)],\n",
        " [(1, -0.5), (1, 0.5)],\n",
        " [(2, 0.5), (1, 0.5)],\n",
        " [(2, -0.5), (1, 0.5)],\n",
        " [(2, 0.5), (1, -0.5)],\n",
        " [(2, -0.5), (1, -0.5)],\n",
        " [(2, -0.5), (2, 0.5)]]"
       ]
      }
     ],
     "prompt_number": 31
    },
    {
     "cell_type": "markdown",
     "metadata": {},
     "source": [
      "Luego se crea un diccionario para clasificarlas. El diccionario nos ayudar\u00e1 a determinar a qu\u00e9 combinaci\u00f3n de (L,S) pertenece cada estado."
     ]
    },
    {
     "cell_type": "code",
     "collapsed": false,
     "input": [
      "D = dict()\n",
      "for slater in Slater:\n",
      "    key = (slater[0][0]+slater[1][0],slater[0][1]+slater[1][1])\n",
      "    if key not in D:\n",
      "        D[key] = [slater]\n",
      "    else:\n",
      "        D[key].append(slater)\n"
     ],
     "language": "python",
     "metadata": {},
     "outputs": [],
     "prompt_number": 33
    },
    {
     "cell_type": "code",
     "collapsed": false,
     "input": [
      "print(\"Existen %d combinaciones de L y S\" %len(D))"
     ],
     "language": "python",
     "metadata": {},
     "outputs": [
      {
       "output_type": "stream",
       "stream": "stdout",
       "text": [
        "Existen 23 combinaciones de L y S\n"
       ]
      }
     ],
     "prompt_number": 34
    },
    {
     "cell_type": "code",
     "collapsed": false,
     "input": [
      "D.keys()"
     ],
     "language": "python",
     "metadata": {},
     "outputs": [
      {
       "output_type": "pyout",
       "prompt_number": 16,
       "text": [
        "dict_keys([(0, 0.0), (-2, 0.0), (-3, -1.0), (-2, -1.0), (-1, 1.0), (2, 1.0), (-3, 1.0), (3, -1.0), (2, -1.0), (-4, 0.0), (1, 0.0), (1, -1.0), (3, 0.0), (-1, 0.0), (0, 1.0), (-2, 1.0), (3, 1.0), (-3, 0.0), (2, 0.0), (-1, -1.0), (0, -1.0), (4, 0.0), (1, 1.0)])"
       ]
      }
     ],
     "prompt_number": 16
    },
    {
     "cell_type": "heading",
     "level": 2,
     "metadata": {},
     "source": [
      "Construcci\u00f3n de la tabla de determinantes de Slater"
     ]
    },
    {
     "cell_type": "markdown",
     "metadata": {},
     "source": [
      "Ahora ordenamos las cominaciones agrupandolas en filas y columnas de tal manera que "
     ]
    },
    {
     "cell_type": "code",
     "collapsed": false,
     "input": [
      "import pandas\n",
      "rows = []\n",
      "for i in range(9):\n",
      "    rows.append([])\n",
      "L = 4\n",
      "j = 0\n",
      "i =0\n",
      "for L in range(4,-5,-1):\n",
      "    for S in [1,0,-1]:\n",
      "        if (L,S) in D.keys():\n",
      "            rows[j].append(range(len(D[(L,S)])))\n",
      "            #rows[j].append(D[(L,S)])\n",
      "        else:\n",
      "            rows[j].append(None)\n",
      "    j+=1"
     ],
     "language": "python",
     "metadata": {},
     "outputs": [],
     "prompt_number": 35
    },
    {
     "cell_type": "code",
     "collapsed": false,
     "input": [
      "df2 = pandas.DataFrame(rows,pandas.MultiIndex.from_tuples([('Ml',4),('Ml',3),('Ml',2),('Ml',1),('Ml',0),('Ml',-1),('Ml',-2),('Ml',-3),('Ml',-4)])\\\n",
      "       ,pandas.MultiIndex.from_tuples([('Ms',1),('Ms',0),('Ms',-1)]))"
     ],
     "language": "python",
     "metadata": {},
     "outputs": [],
     "prompt_number": 53
    },
    {
     "cell_type": "markdown",
     "metadata": {},
     "source": [
      "Configuraci\u00f3n $nd^2$"
     ]
    },
    {
     "cell_type": "code",
     "collapsed": false,
     "input": [
      "df2"
     ],
     "language": "python",
     "metadata": {},
     "outputs": [
      {
       "html": [
        "<div style=\"max-height:1000px;max-width:1500px;overflow:auto;\">\n",
        "<table border=\"1\" class=\"dataframe\">\n",
        "  <thead>\n",
        "    <tr>\n",
        "      <th></th>\n",
        "      <th></th>\n",
        "      <th colspan=\"3\" halign=\"left\">Ms</th>\n",
        "    </tr>\n",
        "    <tr>\n",
        "      <th></th>\n",
        "      <th></th>\n",
        "      <th> 1</th>\n",
        "      <th> 0</th>\n",
        "      <th>-1</th>\n",
        "    </tr>\n",
        "  </thead>\n",
        "  <tbody>\n",
        "    <tr>\n",
        "      <th rowspan=\"9\" valign=\"top\">Ml</th>\n",
        "      <th> 4</th>\n",
        "      <td>   None</td>\n",
        "      <td>             (0)</td>\n",
        "      <td>   None</td>\n",
        "    </tr>\n",
        "    <tr>\n",
        "      <th> 3</th>\n",
        "      <td>    (0)</td>\n",
        "      <td>          (0, 1)</td>\n",
        "      <td>    (0)</td>\n",
        "    </tr>\n",
        "    <tr>\n",
        "      <th> 2</th>\n",
        "      <td>    (0)</td>\n",
        "      <td>       (0, 1, 2)</td>\n",
        "      <td>    (0)</td>\n",
        "    </tr>\n",
        "    <tr>\n",
        "      <th> 1</th>\n",
        "      <td> (0, 1)</td>\n",
        "      <td>    (0, 1, 2, 3)</td>\n",
        "      <td> (0, 1)</td>\n",
        "    </tr>\n",
        "    <tr>\n",
        "      <th> 0</th>\n",
        "      <td> (0, 1)</td>\n",
        "      <td> (0, 1, 2, 3, 4)</td>\n",
        "      <td> (0, 1)</td>\n",
        "    </tr>\n",
        "    <tr>\n",
        "      <th>-1</th>\n",
        "      <td> (0, 1)</td>\n",
        "      <td>    (0, 1, 2, 3)</td>\n",
        "      <td> (0, 1)</td>\n",
        "    </tr>\n",
        "    <tr>\n",
        "      <th>-2</th>\n",
        "      <td>    (0)</td>\n",
        "      <td>       (0, 1, 2)</td>\n",
        "      <td>    (0)</td>\n",
        "    </tr>\n",
        "    <tr>\n",
        "      <th>-3</th>\n",
        "      <td>    (0)</td>\n",
        "      <td>          (0, 1)</td>\n",
        "      <td>    (0)</td>\n",
        "    </tr>\n",
        "    <tr>\n",
        "      <th>-4</th>\n",
        "      <td>   None</td>\n",
        "      <td>             (0)</td>\n",
        "      <td>   None</td>\n",
        "    </tr>\n",
        "  </tbody>\n",
        "</table>\n",
        "</div>"
       ],
       "output_type": "pyout",
       "prompt_number": 58,
       "text": [
        "           Ms                         \n",
        "            1                0      -1\n",
        "Ml  4    None              (0)    None\n",
        "    3     (0)           (0, 1)     (0)\n",
        "    2     (0)        (0, 1, 2)     (0)\n",
        "    1  (0, 1)     (0, 1, 2, 3)  (0, 1)\n",
        "    0  (0, 1)  (0, 1, 2, 3, 4)  (0, 1)\n",
        "   -1  (0, 1)     (0, 1, 2, 3)  (0, 1)\n",
        "   -2     (0)        (0, 1, 2)     (0)\n",
        "   -3     (0)           (0, 1)     (0)\n",
        "   -4    None              (0)    None"
       ]
      }
     ],
     "prompt_number": 58
    },
    {
     "cell_type": "markdown",
     "metadata": {},
     "source": [
      "En detalle los estados ser\u00edan:\n"
     ]
    },
    {
     "cell_type": "code",
     "collapsed": false,
     "input": [
      "rows = []\n",
      "for i in range(9):\n",
      "    rows.append([])\n",
      "L = 4\n",
      "j = 0\n",
      "i =0\n",
      "for L in range(4,-5,-1):\n",
      "    for S in [1,0,-1]:\n",
      "        if (L,S) in D.keys():\n",
      "            #rows[j].append(range(len(D[(L,S)])))\n",
      "            rows[j].append(D[(L,S)])\n",
      "        else:\n",
      "            rows[j].append(None)\n",
      "    j+=1\n",
      "df3 = pandas.DataFrame(rows,pandas.MultiIndex.from_tuples([('Ml',4),('Ml',3),('Ml',2),('Ml',1),('Ml',0),('Ml',-1),('Ml',-2),('Ml',-3),('Ml',-4)])\\\n",
      "       ,pandas.MultiIndex.from_tuples([('Ms',1),('Ms',0),('Ms',-1)]))"
     ],
     "language": "python",
     "metadata": {},
     "outputs": [],
     "prompt_number": 63
    },
    {
     "cell_type": "code",
     "collapsed": false,
     "input": [
      "df3"
     ],
     "language": "python",
     "metadata": {},
     "outputs": [
      {
       "html": [
        "<div style=\"max-height:1000px;max-width:1500px;overflow:auto;\">\n",
        "<table border=\"1\" class=\"dataframe\">\n",
        "  <thead>\n",
        "    <tr>\n",
        "      <th></th>\n",
        "      <th></th>\n",
        "      <th colspan=\"3\" halign=\"left\">Ms</th>\n",
        "    </tr>\n",
        "    <tr>\n",
        "      <th></th>\n",
        "      <th></th>\n",
        "      <th> 1</th>\n",
        "      <th> 0</th>\n",
        "      <th>-1</th>\n",
        "    </tr>\n",
        "  </thead>\n",
        "  <tbody>\n",
        "    <tr>\n",
        "      <th rowspan=\"9\" valign=\"top\">Ml</th>\n",
        "      <th> 4</th>\n",
        "      <td>                                           None</td>\n",
        "      <td>                           [[(2, -0.5), (2, 0.5)]]</td>\n",
        "      <td>                                              None</td>\n",
        "    </tr>\n",
        "    <tr>\n",
        "      <th> 3</th>\n",
        "      <td>                         [[(2, 0.5), (1, 0.5)]]</td>\n",
        "      <td>    [[(2, -0.5), (1, 0.5)], [(2, 0.5), (1, -0.5)]]</td>\n",
        "      <td>                          [[(2, -0.5), (1, -0.5)]]</td>\n",
        "    </tr>\n",
        "    <tr>\n",
        "      <th> 2</th>\n",
        "      <td>                         [[(2, 0.5), (0, 0.5)]]</td>\n",
        "      <td> [[(2, -0.5), (0, 0.5)], [(2, 0.5), (0, -0.5)],...</td>\n",
        "      <td>                          [[(2, -0.5), (0, -0.5)]]</td>\n",
        "    </tr>\n",
        "    <tr>\n",
        "      <th> 1</th>\n",
        "      <td>  [[(2, 0.5), (-1, 0.5)], [(1, 0.5), (0, 0.5)]]</td>\n",
        "      <td> [[(2, -0.5), (-1, 0.5)], [(2, 0.5), (-1, -0.5)...</td>\n",
        "      <td> [[(2, -0.5), (-1, -0.5)], [(1, -0.5), (0, -0.5)]]</td>\n",
        "    </tr>\n",
        "    <tr>\n",
        "      <th> 0</th>\n",
        "      <td> [[(2, 0.5), (-2, 0.5)], [(1, 0.5), (-1, 0.5)]]</td>\n",
        "      <td> [[(2, -0.5), (-2, 0.5)], [(2, 0.5), (-2, -0.5)...</td>\n",
        "      <td> [[(2, -0.5), (-2, -0.5)], [(1, -0.5), (-1, -0....</td>\n",
        "    </tr>\n",
        "    <tr>\n",
        "      <th>-1</th>\n",
        "      <td> [[(1, 0.5), (-2, 0.5)], [(0, 0.5), (-1, 0.5)]]</td>\n",
        "      <td> [[(1, -0.5), (-2, 0.5)], [(1, 0.5), (-2, -0.5)...</td>\n",
        "      <td> [[(1, -0.5), (-2, -0.5)], [(0, -0.5), (-1, -0....</td>\n",
        "    </tr>\n",
        "    <tr>\n",
        "      <th>-2</th>\n",
        "      <td>                        [[(0, 0.5), (-2, 0.5)]]</td>\n",
        "      <td> [[(0, -0.5), (-2, 0.5)], [(0, 0.5), (-2, -0.5)...</td>\n",
        "      <td>                         [[(0, -0.5), (-2, -0.5)]]</td>\n",
        "    </tr>\n",
        "    <tr>\n",
        "      <th>-3</th>\n",
        "      <td>                       [[(-1, 0.5), (-2, 0.5)]]</td>\n",
        "      <td> [[(-1, -0.5), (-2, 0.5)], [(-1, 0.5), (-2, -0....</td>\n",
        "      <td>                        [[(-1, -0.5), (-2, -0.5)]]</td>\n",
        "    </tr>\n",
        "    <tr>\n",
        "      <th>-4</th>\n",
        "      <td>                                           None</td>\n",
        "      <td>                         [[(-2, -0.5), (-2, 0.5)]]</td>\n",
        "      <td>                                              None</td>\n",
        "    </tr>\n",
        "  </tbody>\n",
        "</table>\n",
        "</div>"
       ],
       "output_type": "pyout",
       "prompt_number": 64,
       "text": [
        "                                                   Ms  \\\n",
        "                                                    1   \n",
        "Ml  4                                            None   \n",
        "    3                          [[(2, 0.5), (1, 0.5)]]   \n",
        "    2                          [[(2, 0.5), (0, 0.5)]]   \n",
        "    1   [[(2, 0.5), (-1, 0.5)], [(1, 0.5), (0, 0.5)]]   \n",
        "    0  [[(2, 0.5), (-2, 0.5)], [(1, 0.5), (-1, 0.5)]]   \n",
        "   -1  [[(1, 0.5), (-2, 0.5)], [(0, 0.5), (-1, 0.5)]]   \n",
        "   -2                         [[(0, 0.5), (-2, 0.5)]]   \n",
        "   -3                        [[(-1, 0.5), (-2, 0.5)]]   \n",
        "   -4                                            None   \n",
        "\n",
        "                                                          \\\n",
        "                                                       0   \n",
        "Ml  4                            [[(2, -0.5), (2, 0.5)]]   \n",
        "    3     [[(2, -0.5), (1, 0.5)], [(2, 0.5), (1, -0.5)]]   \n",
        "    2  [[(2, -0.5), (0, 0.5)], [(2, 0.5), (0, -0.5)],...   \n",
        "    1  [[(2, -0.5), (-1, 0.5)], [(2, 0.5), (-1, -0.5)...   \n",
        "    0  [[(2, -0.5), (-2, 0.5)], [(2, 0.5), (-2, -0.5)...   \n",
        "   -1  [[(1, -0.5), (-2, 0.5)], [(1, 0.5), (-2, -0.5)...   \n",
        "   -2  [[(0, -0.5), (-2, 0.5)], [(0, 0.5), (-2, -0.5)...   \n",
        "   -3  [[(-1, -0.5), (-2, 0.5)], [(-1, 0.5), (-2, -0....   \n",
        "   -4                          [[(-2, -0.5), (-2, 0.5)]]   \n",
        "\n",
        "                                                          \n",
        "                                                      -1  \n",
        "Ml  4                                               None  \n",
        "    3                           [[(2, -0.5), (1, -0.5)]]  \n",
        "    2                           [[(2, -0.5), (0, -0.5)]]  \n",
        "    1  [[(2, -0.5), (-1, -0.5)], [(1, -0.5), (0, -0.5)]]  \n",
        "    0  [[(2, -0.5), (-2, -0.5)], [(1, -0.5), (-1, -0....  \n",
        "   -1  [[(1, -0.5), (-2, -0.5)], [(0, -0.5), (-1, -0....  \n",
        "   -2                          [[(0, -0.5), (-2, -0.5)]]  \n",
        "   -3                         [[(-1, -0.5), (-2, -0.5)]]  \n",
        "   -4                                               None  "
       ]
      }
     ],
     "prompt_number": 64
    },
    {
     "cell_type": "code",
     "collapsed": false,
     "input": [],
     "language": "python",
     "metadata": {},
     "outputs": []
    }
   ],
   "metadata": {}
  }
 ]
}